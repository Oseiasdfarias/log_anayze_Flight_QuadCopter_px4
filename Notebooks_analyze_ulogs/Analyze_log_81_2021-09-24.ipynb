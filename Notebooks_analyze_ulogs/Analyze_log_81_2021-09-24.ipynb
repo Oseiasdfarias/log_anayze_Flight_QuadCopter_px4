{
 "cells": [
  {
   "cell_type": "markdown",
   "id": "d56fdae7",
   "metadata": {},
   "source": [
    "# Analyze Ulog 2021/09/24"
   ]
  },
  {
   "cell_type": "code",
   "execution_count": 2,
   "id": "63afc92d",
   "metadata": {},
   "outputs": [
    {
     "name": "stdout",
     "output_type": "stream",
     "text": [
      "Collecting matplotlib\n",
      "  Using cached matplotlib-3.4.3-cp38-cp38-manylinux1_x86_64.whl (10.3 MB)\n",
      "Collecting pillow>=6.2.0\n",
      "  Using cached Pillow-8.3.2-cp38-cp38-manylinux_2_17_x86_64.manylinux2014_x86_64.whl (3.0 MB)\n",
      "Requirement already satisfied: python-dateutil>=2.7 in /home/bits/workspace/WorkSpaceDrone/DroneTCC/log_anayze_Tools/venv/lib/python3.8/site-packages (from matplotlib) (2.8.2)\n",
      "Requirement already satisfied: pyparsing>=2.2.1 in /home/bits/workspace/WorkSpaceDrone/DroneTCC/log_anayze_Tools/venv/lib/python3.8/site-packages (from matplotlib) (2.4.7)\n",
      "Collecting kiwisolver>=1.0.1\n",
      "  Using cached kiwisolver-1.3.2-cp38-cp38-manylinux_2_5_x86_64.manylinux1_x86_64.whl (1.2 MB)\n",
      "Collecting cycler>=0.10\n",
      "  Using cached cycler-0.10.0-py2.py3-none-any.whl (6.5 kB)\n",
      "Requirement already satisfied: numpy>=1.16 in /home/bits/workspace/WorkSpaceDrone/DroneTCC/log_anayze_Tools/venv/lib/python3.8/site-packages (from matplotlib) (1.21.2)\n",
      "Requirement already satisfied: six>=1.5 in /home/bits/workspace/WorkSpaceDrone/DroneTCC/log_anayze_Tools/venv/lib/python3.8/site-packages (from python-dateutil>=2.7->matplotlib) (1.16.0)\n",
      "Installing collected packages: pillow, kiwisolver, cycler, matplotlib\n",
      "Successfully installed cycler-0.10.0 kiwisolver-1.3.2 matplotlib-3.4.3 pillow-8.3.2\n"
     ]
    }
   ],
   "source": [
    "#! pip install matplotlib"
   ]
  },
  {
   "cell_type": "code",
   "execution_count": null,
   "id": "deabbbcb",
   "metadata": {},
   "outputs": [],
   "source": [
    "import pandas as pd\n",
    "import matplotlib.pyplot as plt\n",
    "\n",
    "%matplotlib inline"
   ]
  },
  {
   "cell_type": "code",
   "execution_count": 1,
   "id": "c9361fc4",
   "metadata": {},
   "outputs": [
    {
     "ename": "NameError",
     "evalue": "name 'pd' is not defined",
     "output_type": "error",
     "traceback": [
      "\u001b[0;31m---------------------------------------------------------------------------\u001b[0m",
      "\u001b[0;31mNameError\u001b[0m                                 Traceback (most recent call last)",
      "\u001b[0;32m/tmp/ipykernel_39978/534948824.py\u001b[0m in \u001b[0;36m<module>\u001b[0;34m\u001b[0m\n\u001b[0;32m----> 1\u001b[0;31m \u001b[0mdf\u001b[0m \u001b[0;34m=\u001b[0m \u001b[0mpd\u001b[0m\u001b[0;34m.\u001b[0m\u001b[0mread_csv\u001b[0m\u001b[0;34m(\u001b[0m\u001b[0;34m\"../ulogs_analyze/log_2021-9-24/test_cvs/log_81_2021-9-24-15-20-10_sensor_accel_0.csv\"\u001b[0m\u001b[0;34m)\u001b[0m\u001b[0;34m\u001b[0m\u001b[0;34m\u001b[0m\u001b[0m\n\u001b[0m",
      "\u001b[0;31mNameError\u001b[0m: name 'pd' is not defined"
     ]
    }
   ],
   "source": [
    "df = pd.read_csv(\"../ulogs_analyze/log_2021-9-24/test_cvs/log_81_2021-9-24-15-20-10_sensor_accel_0.csv\")"
   ]
  },
  {
   "cell_type": "code",
   "execution_count": 2,
   "id": "f2bf27d2",
   "metadata": {},
   "outputs": [
    {
     "ename": "NameError",
     "evalue": "name 'df' is not defined",
     "output_type": "error",
     "traceback": [
      "\u001b[0;31m---------------------------------------------------------------------------\u001b[0m",
      "\u001b[0;31mNameError\u001b[0m                                 Traceback (most recent call last)",
      "\u001b[0;32m/tmp/ipykernel_39978/3771845804.py\u001b[0m in \u001b[0;36m<module>\u001b[0;34m\u001b[0m\n\u001b[0;32m----> 1\u001b[0;31m \u001b[0mdf\u001b[0m\u001b[0;34m.\u001b[0m\u001b[0minfo\u001b[0m\u001b[0;34m(\u001b[0m\u001b[0;34m)\u001b[0m\u001b[0;34m\u001b[0m\u001b[0;34m\u001b[0m\u001b[0m\n\u001b[0m",
      "\u001b[0;31mNameError\u001b[0m: name 'df' is not defined"
     ]
    }
   ],
   "source": [
    "df.info()"
   ]
  },
  {
   "cell_type": "code",
   "execution_count": 20,
   "id": "da6dbfd4",
   "metadata": {},
   "outputs": [
    {
     "data": {
      "text/html": [
       "<div>\n",
       "<style scoped>\n",
       "    .dataframe tbody tr th:only-of-type {\n",
       "        vertical-align: middle;\n",
       "    }\n",
       "\n",
       "    .dataframe tbody tr th {\n",
       "        vertical-align: top;\n",
       "    }\n",
       "\n",
       "    .dataframe thead th {\n",
       "        text-align: right;\n",
       "    }\n",
       "</style>\n",
       "<table border=\"1\" class=\"dataframe\">\n",
       "  <thead>\n",
       "    <tr style=\"text-align: right;\">\n",
       "      <th></th>\n",
       "      <th>timestamp</th>\n",
       "      <th>timestamp_sample</th>\n",
       "      <th>device_id</th>\n",
       "      <th>x</th>\n",
       "      <th>y</th>\n",
       "      <th>z</th>\n",
       "      <th>temperature</th>\n",
       "      <th>error_count</th>\n",
       "      <th>clip_counter[0]</th>\n",
       "      <th>clip_counter[1]</th>\n",
       "      <th>clip_counter[2]</th>\n",
       "      <th>samples</th>\n",
       "    </tr>\n",
       "  </thead>\n",
       "  <tbody>\n",
       "    <tr>\n",
       "      <th>0</th>\n",
       "      <td>48175033</td>\n",
       "      <td>48174413</td>\n",
       "      <td>2162698</td>\n",
       "      <td>-0.074220</td>\n",
       "      <td>-0.112527</td>\n",
       "      <td>-9.909601</td>\n",
       "      <td>40.059410</td>\n",
       "      <td>0</td>\n",
       "      <td>0</td>\n",
       "      <td>0</td>\n",
       "      <td>0</td>\n",
       "      <td>1</td>\n",
       "    </tr>\n",
       "    <tr>\n",
       "      <th>1</th>\n",
       "      <td>49176008</td>\n",
       "      <td>49175400</td>\n",
       "      <td>2162698</td>\n",
       "      <td>0.122104</td>\n",
       "      <td>-0.263362</td>\n",
       "      <td>-9.406818</td>\n",
       "      <td>40.059410</td>\n",
       "      <td>0</td>\n",
       "      <td>0</td>\n",
       "      <td>0</td>\n",
       "      <td>0</td>\n",
       "      <td>1</td>\n",
       "    </tr>\n",
       "    <tr>\n",
       "      <th>2</th>\n",
       "      <td>50177000</td>\n",
       "      <td>50176390</td>\n",
       "      <td>2162698</td>\n",
       "      <td>-0.277727</td>\n",
       "      <td>-0.349553</td>\n",
       "      <td>-10.070012</td>\n",
       "      <td>40.153530</td>\n",
       "      <td>0</td>\n",
       "      <td>0</td>\n",
       "      <td>0</td>\n",
       "      <td>0</td>\n",
       "      <td>1</td>\n",
       "    </tr>\n",
       "    <tr>\n",
       "      <th>3</th>\n",
       "      <td>51178000</td>\n",
       "      <td>51177388</td>\n",
       "      <td>2162698</td>\n",
       "      <td>-0.112527</td>\n",
       "      <td>-0.624887</td>\n",
       "      <td>-9.979033</td>\n",
       "      <td>40.247646</td>\n",
       "      <td>0</td>\n",
       "      <td>0</td>\n",
       "      <td>0</td>\n",
       "      <td>0</td>\n",
       "      <td>1</td>\n",
       "    </tr>\n",
       "    <tr>\n",
       "      <th>4</th>\n",
       "      <td>52177529</td>\n",
       "      <td>52176917</td>\n",
       "      <td>2162698</td>\n",
       "      <td>-0.270545</td>\n",
       "      <td>-0.339977</td>\n",
       "      <td>-10.591949</td>\n",
       "      <td>40.247646</td>\n",
       "      <td>0</td>\n",
       "      <td>0</td>\n",
       "      <td>0</td>\n",
       "      <td>0</td>\n",
       "      <td>2</td>\n",
       "    </tr>\n",
       "    <tr>\n",
       "      <th>5</th>\n",
       "      <td>53176975</td>\n",
       "      <td>53176362</td>\n",
       "      <td>2162698</td>\n",
       "      <td>0.064643</td>\n",
       "      <td>-0.129287</td>\n",
       "      <td>-9.895236</td>\n",
       "      <td>40.341763</td>\n",
       "      <td>0</td>\n",
       "      <td>0</td>\n",
       "      <td>0</td>\n",
       "      <td>0</td>\n",
       "      <td>1</td>\n",
       "    </tr>\n",
       "    <tr>\n",
       "      <th>6</th>\n",
       "      <td>54177976</td>\n",
       "      <td>54177358</td>\n",
       "      <td>2162698</td>\n",
       "      <td>-0.217872</td>\n",
       "      <td>-0.105345</td>\n",
       "      <td>-10.675745</td>\n",
       "      <td>40.435883</td>\n",
       "      <td>0</td>\n",
       "      <td>0</td>\n",
       "      <td>0</td>\n",
       "      <td>0</td>\n",
       "      <td>1</td>\n",
       "    </tr>\n",
       "    <tr>\n",
       "      <th>7</th>\n",
       "      <td>55178962</td>\n",
       "      <td>55178355</td>\n",
       "      <td>2162698</td>\n",
       "      <td>-0.177171</td>\n",
       "      <td>-0.450110</td>\n",
       "      <td>-9.852140</td>\n",
       "      <td>40.341763</td>\n",
       "      <td>0</td>\n",
       "      <td>0</td>\n",
       "      <td>0</td>\n",
       "      <td>0</td>\n",
       "      <td>1</td>\n",
       "    </tr>\n",
       "    <tr>\n",
       "      <th>8</th>\n",
       "      <td>56176970</td>\n",
       "      <td>56176348</td>\n",
       "      <td>2162698</td>\n",
       "      <td>-0.421380</td>\n",
       "      <td>0.337582</td>\n",
       "      <td>-11.066000</td>\n",
       "      <td>40.530000</td>\n",
       "      <td>0</td>\n",
       "      <td>0</td>\n",
       "      <td>0</td>\n",
       "      <td>0</td>\n",
       "      <td>1</td>\n",
       "    </tr>\n",
       "    <tr>\n",
       "      <th>9</th>\n",
       "      <td>57176514</td>\n",
       "      <td>57175892</td>\n",
       "      <td>2162698</td>\n",
       "      <td>0.389058</td>\n",
       "      <td>-0.586579</td>\n",
       "      <td>-10.230424</td>\n",
       "      <td>40.530000</td>\n",
       "      <td>0</td>\n",
       "      <td>0</td>\n",
       "      <td>0</td>\n",
       "      <td>0</td>\n",
       "      <td>2</td>\n",
       "    </tr>\n",
       "  </tbody>\n",
       "</table>\n",
       "</div>"
      ],
      "text/plain": [
       "   timestamp  timestamp_sample  device_id         x         y          z  \\\n",
       "0   48175033          48174413    2162698 -0.074220 -0.112527  -9.909601   \n",
       "1   49176008          49175400    2162698  0.122104 -0.263362  -9.406818   \n",
       "2   50177000          50176390    2162698 -0.277727 -0.349553 -10.070012   \n",
       "3   51178000          51177388    2162698 -0.112527 -0.624887  -9.979033   \n",
       "4   52177529          52176917    2162698 -0.270545 -0.339977 -10.591949   \n",
       "5   53176975          53176362    2162698  0.064643 -0.129287  -9.895236   \n",
       "6   54177976          54177358    2162698 -0.217872 -0.105345 -10.675745   \n",
       "7   55178962          55178355    2162698 -0.177171 -0.450110  -9.852140   \n",
       "8   56176970          56176348    2162698 -0.421380  0.337582 -11.066000   \n",
       "9   57176514          57175892    2162698  0.389058 -0.586579 -10.230424   \n",
       "\n",
       "   temperature  error_count  clip_counter[0]  clip_counter[1]  \\\n",
       "0    40.059410            0                0                0   \n",
       "1    40.059410            0                0                0   \n",
       "2    40.153530            0                0                0   \n",
       "3    40.247646            0                0                0   \n",
       "4    40.247646            0                0                0   \n",
       "5    40.341763            0                0                0   \n",
       "6    40.435883            0                0                0   \n",
       "7    40.341763            0                0                0   \n",
       "8    40.530000            0                0                0   \n",
       "9    40.530000            0                0                0   \n",
       "\n",
       "   clip_counter[2]  samples  \n",
       "0                0        1  \n",
       "1                0        1  \n",
       "2                0        1  \n",
       "3                0        1  \n",
       "4                0        2  \n",
       "5                0        1  \n",
       "6                0        1  \n",
       "7                0        1  \n",
       "8                0        1  \n",
       "9                0        2  "
      ]
     },
     "execution_count": 20,
     "metadata": {},
     "output_type": "execute_result"
    }
   ],
   "source": [
    "df.head(100)"
   ]
  },
  {
   "cell_type": "code",
   "execution_count": 21,
   "id": "e895e24f",
   "metadata": {},
   "outputs": [
    {
     "data": {
      "text/plain": [
       "(10, 12)"
      ]
     },
     "execution_count": 21,
     "metadata": {},
     "output_type": "execute_result"
    }
   ],
   "source": [
    "df.shape"
   ]
  },
  {
   "cell_type": "code",
   "execution_count": 22,
   "id": "372ff76e",
   "metadata": {},
   "outputs": [],
   "source": [
    "temp = df[\"timestamp\"]"
   ]
  },
  {
   "cell_type": "code",
   "execution_count": 23,
   "id": "1735450e",
   "metadata": {},
   "outputs": [
    {
     "data": {
      "text/plain": [
       "0    48175033\n",
       "1    49176008\n",
       "2    50177000\n",
       "3    51178000\n",
       "4    52177529\n",
       "Name: timestamp, dtype: int64"
      ]
     },
     "execution_count": 23,
     "metadata": {},
     "output_type": "execute_result"
    }
   ],
   "source": [
    "temp.head()"
   ]
  },
  {
   "cell_type": "code",
   "execution_count": 28,
   "id": "74b356e7",
   "metadata": {},
   "outputs": [],
   "source": [
    "x_ax = df[\"x\"]\n",
    "y_ay = df[\"y\"]\n",
    "z_az = df[\"z\"]"
   ]
  },
  {
   "cell_type": "code",
   "execution_count": 29,
   "id": "442edffd",
   "metadata": {},
   "outputs": [
    {
     "data": {
      "text/plain": [
       "0   -0.074220\n",
       "1    0.122104\n",
       "2   -0.277727\n",
       "3   -0.112527\n",
       "4   -0.270545\n",
       "Name: x, dtype: float64"
      ]
     },
     "execution_count": 29,
     "metadata": {},
     "output_type": "execute_result"
    }
   ],
   "source": [
    "x_ax.head()"
   ]
  },
  {
   "cell_type": "code",
   "execution_count": 37,
   "id": "f330f38c",
   "metadata": {},
   "outputs": [
    {
     "data": {
      "image/png": "[encoded data removed]",
      "text/plain": [
       "<Figure size 864x360 with 1 Axes>"
      ]
     },
     "metadata": {
      "needs_background": "light"
     },
     "output_type": "display_data"
    }
   ],
   "source": [
    "plt.figure(figsize=(12, 5))\n",
    "plt.plot(temp.values, x_ax.values, \"b\")\n",
    "plt.plot(temp.values, y_ay.values, \"b\")\n",
    "plt.plot(temp.values, z_az.values, \"b\")\n",
    "\n",
    "plt.ylabel(\"Valores de X, I, Z\", fontsize = 14 )\n",
    "plt.xlabel(\"Tempo\", fontsize = 14)\n",
    "plt.show()"
   ]
  },
  {
   "cell_type": "markdown",
   "id": "da415125",
   "metadata": {},
   "source": [
    "# Temperatura do sensor em função do tempo de voo"
   ]
  },
  {
   "cell_type": "code",
   "execution_count": 39,
   "id": "08975dd5",
   "metadata": {},
   "outputs": [],
   "source": [
    "temperatura = df[\"temperature\"]"
   ]
  },
  {
   "cell_type": "code",
   "execution_count": 41,
   "id": "194bbba1",
   "metadata": {},
   "outputs": [
    {
     "data": {
      "image/png": "[encoded data removed]",
      "text/plain": [
       "<Figure size 864x360 with 1 Axes>"
      ]
     },
     "metadata": {
      "needs_background": "light"
     },
     "output_type": "display_data"
    }
   ],
   "source": [
    "plt.figure(figsize=(12, 5))\n",
    "plt.plot(temp.values, temperatura.values, \"b\")\n",
    "\n",
    "plt.ylabel(\"Temperatura Sensor\", fontsize = 14 )\n",
    "plt.xlabel(\"Tempo\", fontsize = 14)\n",
    "plt.show()"
   ]
  },
  {
   "cell_type": "code",
   "execution_count": null,
   "id": "ff4ba96f",
   "metadata": {},
   "outputs": [],
   "source": []
  }
 ],
 "metadata": {
  "kernelspec": {
   "display_name": "Python 3 (ipykernel)",
   "language": "python",
   "name": "python3"
  },
  "language_info": {
   "codemirror_mode": {
    "name": "ipython",
    "version": 3
   },
   "file_extension": ".py",
   "mimetype": "text/x-python",
   "name": "python",
   "nbconvert_exporter": "python",
   "pygments_lexer": "ipython3",
   "version": "3.8.10"
  }
 },
 "nbformat": 4,
 "nbformat_minor": 5
}
